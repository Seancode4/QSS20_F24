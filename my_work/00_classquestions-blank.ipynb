{
 "cells": [
  {
   "cell_type": "markdown",
   "metadata": {},
   "source": [
    "# 0. Load imports "
   ]
  },
  {
   "cell_type": "code",
   "execution_count": 1,
   "metadata": {},
   "outputs": [],
   "source": [
    "## imports\n",
    "import pandas as pd\n",
    "import numpy as np\n",
    "import re\n",
    "\n",
    "## print multiple things from same cell\n",
    "from IPython.core.interactiveshell import InteractiveShell\n",
    "InteractiveShell.ast_node_interactivity = \"all\"\n",
    "\n",
    "## load data on 2020 crimes in DC\n",
    "df = dc_crim_2020 = pd.read_csv(\"https://opendata.arcgis.com/datasets/f516e0dd7b614b088ad781b0c4002331_2.csv\")"
   ]
  },
  {
   "cell_type": "markdown",
   "metadata": {},
   "source": [
    "# 1. Questions: list comprehension\n",
    "\n",
    "- In class example, why did we need the \"courses\" at the beginning of the list iteration\n",
    "- How did the join syntax work in the example where we paste together offenses from same ward"
   ]
  },
  {
   "cell_type": "code",
   "execution_count": 2,
   "metadata": {},
   "outputs": [],
   "source": [
    "## toy example\n",
    "\n",
    "### pool of courses\n",
    "all_courses = [\"QSS20\", \"QSS17\", \"GOV10\", \"GOV4\", \"CSC1\"]"
   ]
  },
  {
   "cell_type": "markdown",
   "metadata": {},
   "source": [
    "## 1.1 Application 1: filtering to a smaller list\n",
    "\n",
    "When we might use: have a lot of columns in a dataframe; want to filter to a smaller set using some pattern"
   ]
  },
  {
   "cell_type": "code",
   "execution_count": 3,
   "metadata": {},
   "outputs": [
    {
     "data": {
      "text/plain": [
       "['GOV10', 'GOV4']"
      ]
     },
     "execution_count": 3,
     "metadata": {},
     "output_type": "execute_result"
    }
   ],
   "source": [
    "### pull out ones that contain GOV in the string\n",
    "gov_c = [course for course in all_courses\n",
    "        if \"GOV\" in course]\n",
    "gov_c # result"
   ]
  },
  {
   "cell_type": "code",
   "execution_count": 4,
   "metadata": {},
   "outputs": [
    {
     "data": {
      "text/plain": [
       "True"
      ]
     },
     "execution_count": 4,
     "metadata": {},
     "output_type": "execute_result"
    }
   ],
   "source": [
    "### showing that the \"course\" is just a placeholder/\n",
    "### arbitrary interator\n",
    "gov_c_alt = [x for x in all_courses if \"GOV\" in x]\n",
    "\n",
    "gov_c == gov_c_alt"
   ]
  },
  {
   "cell_type": "code",
   "execution_count": null,
   "metadata": {},
   "outputs": [],
   "source": []
  },
  {
   "cell_type": "markdown",
   "metadata": {},
   "source": [
    "## 1.2 Application two: keep all objects in the list but do some transformation"
   ]
  },
  {
   "cell_type": "code",
   "execution_count": 5,
   "metadata": {},
   "outputs": [
    {
     "data": {
      "text/plain": [
       "['QSS20', 'QSS17', 'GOV10', 'GOV4', 'CSC1']"
      ]
     },
     "execution_count": 5,
     "metadata": {},
     "output_type": "execute_result"
    },
    {
     "data": {
      "text/plain": [
       "['QSS', 'QSS', 'GOV', 'GOV', 'CSC']"
      ]
     },
     "execution_count": 5,
     "metadata": {},
     "output_type": "execute_result"
    }
   ],
   "source": [
    "all_courses\n",
    "\n",
    "## strip the numbers from the course names\n",
    "courses_prefix = [x[:3] for x in all_courses]\n",
    "courses_prefix # could then find unique elements\n"
   ]
  },
  {
   "cell_type": "code",
   "execution_count": 6,
   "metadata": {},
   "outputs": [
    {
     "data": {
      "text/plain": [
       "'QSS #:)# QSS #:)# GOV #:)# GOV #:)# CSC'"
      ]
     },
     "execution_count": 6,
     "metadata": {},
     "output_type": "execute_result"
    }
   ],
   "source": [
    "# Join all together example\n",
    "\" #:)# \".join(courses_prefix)"
   ]
  },
  {
   "cell_type": "markdown",
   "metadata": {},
   "source": [
    "#### Your turn: Using original list, add \"dartmouth_\" prefix to the course name"
   ]
  },
  {
   "cell_type": "code",
   "execution_count": 11,
   "metadata": {},
   "outputs": [
    {
     "data": {
      "text/plain": [
       "['dartmouth_QSS20',\n",
       " 'dartmouth_QSS17',\n",
       " 'dartmouth_GOV10',\n",
       " 'dartmouth_GOV4',\n",
       " 'dartmouth_CSC1']"
      ]
     },
     "execution_count": 11,
     "metadata": {},
     "output_type": "execute_result"
    }
   ],
   "source": [
    "[\"dartmouth_\" + c for c in all_courses]"
   ]
  },
  {
   "cell_type": "code",
   "execution_count": null,
   "metadata": {},
   "outputs": [],
   "source": []
  },
  {
   "cell_type": "markdown",
   "metadata": {},
   "source": [
    "## 1.3 Subsetting columns"
   ]
  },
  {
   "cell_type": "markdown",
   "metadata": {},
   "source": [
    "Use list comprehension to filter to columns with id in the string. Then, create a new dataframe called df1 that contains only column heads with \"id\""
   ]
  },
  {
   "cell_type": "code",
   "execution_count": 12,
   "metadata": {},
   "outputs": [
    {
     "data": {
      "text/plain": [
       "['BID', 'OBJECTID', 'OCTO_RECORD_ID']"
      ]
     },
     "execution_count": 12,
     "metadata": {},
     "output_type": "execute_result"
    },
    {
     "data": {
      "text/html": [
       "<div>\n",
       "<style scoped>\n",
       "    .dataframe tbody tr th:only-of-type {\n",
       "        vertical-align: middle;\n",
       "    }\n",
       "\n",
       "    .dataframe tbody tr th {\n",
       "        vertical-align: top;\n",
       "    }\n",
       "\n",
       "    .dataframe thead th {\n",
       "        text-align: right;\n",
       "    }\n",
       "</style>\n",
       "<table border=\"1\" class=\"dataframe\">\n",
       "  <thead>\n",
       "    <tr style=\"text-align: right;\">\n",
       "      <th></th>\n",
       "      <th>BID</th>\n",
       "      <th>OBJECTID</th>\n",
       "      <th>OCTO_RECORD_ID</th>\n",
       "    </tr>\n",
       "  </thead>\n",
       "  <tbody>\n",
       "    <tr>\n",
       "      <th>0</th>\n",
       "      <td>NaN</td>\n",
       "      <td>595556840</td>\n",
       "      <td>NaN</td>\n",
       "    </tr>\n",
       "    <tr>\n",
       "      <th>1</th>\n",
       "      <td>DOWNTOWN</td>\n",
       "      <td>595560645</td>\n",
       "      <td>NaN</td>\n",
       "    </tr>\n",
       "    <tr>\n",
       "      <th>2</th>\n",
       "      <td>NaN</td>\n",
       "      <td>595560647</td>\n",
       "      <td>NaN</td>\n",
       "    </tr>\n",
       "    <tr>\n",
       "      <th>3</th>\n",
       "      <td>GOLDEN TRIANGLE</td>\n",
       "      <td>595560654</td>\n",
       "      <td>NaN</td>\n",
       "    </tr>\n",
       "    <tr>\n",
       "      <th>4</th>\n",
       "      <td>NaN</td>\n",
       "      <td>595560828</td>\n",
       "      <td>NaN</td>\n",
       "    </tr>\n",
       "    <tr>\n",
       "      <th>...</th>\n",
       "      <td>...</td>\n",
       "      <td>...</td>\n",
       "      <td>...</td>\n",
       "    </tr>\n",
       "    <tr>\n",
       "      <th>27926</th>\n",
       "      <td>NaN</td>\n",
       "      <td>596085252</td>\n",
       "      <td>NaN</td>\n",
       "    </tr>\n",
       "    <tr>\n",
       "      <th>27927</th>\n",
       "      <td>NaN</td>\n",
       "      <td>596085253</td>\n",
       "      <td>NaN</td>\n",
       "    </tr>\n",
       "    <tr>\n",
       "      <th>27928</th>\n",
       "      <td>NaN</td>\n",
       "      <td>596085258</td>\n",
       "      <td>NaN</td>\n",
       "    </tr>\n",
       "    <tr>\n",
       "      <th>27929</th>\n",
       "      <td>DOWNTOWN</td>\n",
       "      <td>596085259</td>\n",
       "      <td>NaN</td>\n",
       "    </tr>\n",
       "    <tr>\n",
       "      <th>27930</th>\n",
       "      <td>NaN</td>\n",
       "      <td>596086062</td>\n",
       "      <td>NaN</td>\n",
       "    </tr>\n",
       "  </tbody>\n",
       "</table>\n",
       "<p>27931 rows × 3 columns</p>\n",
       "</div>"
      ],
      "text/plain": [
       "                   BID   OBJECTID  OCTO_RECORD_ID\n",
       "0                  NaN  595556840             NaN\n",
       "1             DOWNTOWN  595560645             NaN\n",
       "2                  NaN  595560647             NaN\n",
       "3      GOLDEN TRIANGLE  595560654             NaN\n",
       "4                  NaN  595560828             NaN\n",
       "...                ...        ...             ...\n",
       "27926              NaN  596085252             NaN\n",
       "27927              NaN  596085253             NaN\n",
       "27928              NaN  596085258             NaN\n",
       "27929         DOWNTOWN  596085259             NaN\n",
       "27930              NaN  596086062             NaN\n",
       "\n",
       "[27931 rows x 3 columns]"
      ]
     },
     "execution_count": 12,
     "metadata": {},
     "output_type": "execute_result"
    }
   ],
   "source": [
    "id_cols = [col for col in df.columns if \"ID\" in col]\n",
    "id_cols\n",
    "\n",
    "## Then, filter the data\n",
    "df[id_cols]"
   ]
  },
  {
   "cell_type": "code",
   "execution_count": null,
   "metadata": {},
   "outputs": [],
   "source": []
  },
  {
   "cell_type": "markdown",
   "metadata": {},
   "source": [
    "## 1.4 Comprehension for numbers\n",
    "\n",
    "Here we compare two ways of creating a list of even numbers."
   ]
  },
  {
   "cell_type": "code",
   "execution_count": 13,
   "metadata": {},
   "outputs": [
    {
     "data": {
      "text/plain": [
       "array([   0,    1,    2, ..., 9997, 9998, 9999])"
      ]
     },
     "execution_count": 13,
     "metadata": {},
     "output_type": "execute_result"
    }
   ],
   "source": [
    "num_list = np.arange(10000)\n",
    "num_list"
   ]
  },
  {
   "cell_type": "code",
   "execution_count": 16,
   "metadata": {
    "scrolled": true
   },
   "outputs": [
    {
     "name": "stdout",
     "output_type": "stream",
     "text": [
      "CPU times: user 1.61 ms, sys: 88 μs, total: 1.7 ms\n",
      "Wall time: 1.71 ms\n"
     ]
    }
   ],
   "source": [
    "%%time\n",
    "even_nums = [i for i in num_list if (i % 2) == 0]"
   ]
  },
  {
   "cell_type": "code",
   "execution_count": 17,
   "metadata": {},
   "outputs": [
    {
     "name": "stdout",
     "output_type": "stream",
     "text": [
      "CPU times: user 629 μs, sys: 220 μs, total: 849 μs\n",
      "Wall time: 624 μs\n"
     ]
    },
    {
     "data": {
      "text/plain": [
       "array([   0,    2,    4, ..., 9994, 9996, 9998])"
      ]
     },
     "execution_count": 17,
     "metadata": {},
     "output_type": "execute_result"
    }
   ],
   "source": [
    "%%time\n",
    "num_list[~(num_list % 2).astype(bool)]"
   ]
  },
  {
   "cell_type": "markdown",
   "metadata": {},
   "source": [
    "#### Your turn: Extract all numbers in num_list that end in 7"
   ]
  },
  {
   "cell_type": "code",
   "execution_count": 21,
   "metadata": {},
   "outputs": [
    {
     "name": "stdout",
     "output_type": "stream",
     "text": [
      "CPU times: user 1.54 ms, sys: 1 μs, total: 1.54 ms\n",
      "Wall time: 1.55 ms\n"
     ]
    }
   ],
   "source": [
    "%%time\n",
    "seven = [x for x in num_list if x%10 == 7]"
   ]
  },
  {
   "cell_type": "code",
   "execution_count": 23,
   "metadata": {},
   "outputs": [
    {
     "name": "stdout",
     "output_type": "stream",
     "text": [
      "CPU times: user 747 μs, sys: 842 μs, total: 1.59 ms\n",
      "Wall time: 944 μs\n"
     ]
    }
   ],
   "source": [
    "%%time\n",
    "seven = num_list[(num_list % 10) == 7]"
   ]
  },
  {
   "cell_type": "markdown",
   "metadata": {},
   "source": [
    "#### Your turn: Divide each number  in num_list by 2"
   ]
  },
  {
   "cell_type": "code",
   "execution_count": 28,
   "metadata": {},
   "outputs": [
    {
     "name": "stdout",
     "output_type": "stream",
     "text": [
      "CPU times: user 500 μs, sys: 177 μs, total: 677 μs\n",
      "Wall time: 605 μs\n"
     ]
    },
    {
     "data": {
      "text/plain": [
       "1.0"
      ]
     },
     "execution_count": 28,
     "metadata": {},
     "output_type": "execute_result"
    }
   ],
   "source": [
    "%%time\n",
    "half = num_list/2"
   ]
  },
  {
   "cell_type": "code",
   "execution_count": 31,
   "metadata": {},
   "outputs": [
    {
     "name": "stdout",
     "output_type": "stream",
     "text": [
      "CPU times: user 1.32 ms, sys: 14 μs, total: 1.34 ms\n",
      "Wall time: 1.35 ms\n"
     ]
    },
    {
     "data": {
      "text/plain": [
       "0.5"
      ]
     },
     "execution_count": 31,
     "metadata": {},
     "output_type": "execute_result"
    }
   ],
   "source": [
    "%%time\n",
    "half = [x/2 for x in num_list]"
   ]
  },
  {
   "cell_type": "markdown",
   "metadata": {},
   "source": [
    "# 2. Questions: lambda functions\n",
    "\n",
    "Two questions:\n",
    "\n",
    "- General syntax (see here for a reference: https://www.w3schools.com/python/python_lambda.asp \n",
    "- How they work in the context of aggregations\n",
    "\n",
    "How is a lambda function different from a \"normal\" user-defined function (that has the syntax def func_name(arg): etc?\n",
    "\n",
    "- Operates similarly to normal user-defined functions in that it can take any # of arguments\n",
    "- Operates differently in that it's an \"anonymous\" function or a function that we don't explicitly name/save in memory"
   ]
  },
  {
   "cell_type": "code",
   "execution_count": 32,
   "metadata": {},
   "outputs": [
    {
     "data": {
      "text/plain": [
       "3"
      ]
     },
     "execution_count": 32,
     "metadata": {},
     "output_type": "execute_result"
    },
    {
     "data": {
      "text/plain": [
       "3"
      ]
     },
     "execution_count": 32,
     "metadata": {},
     "output_type": "execute_result"
    }
   ],
   "source": [
    "def f1(x,y):\n",
    "    return x+y\n",
    "\n",
    "f2 = lambda x, y: x+y\n",
    "\n",
    "f1(2,1)\n",
    "f2(2,1)"
   ]
  },
  {
   "cell_type": "code",
   "execution_count": null,
   "metadata": {},
   "outputs": [],
   "source": []
  },
  {
   "cell_type": "markdown",
   "metadata": {},
   "source": [
    "## 2.1 General syntax for lambda functions"
   ]
  },
  {
   "cell_type": "code",
   "execution_count": 33,
   "metadata": {},
   "outputs": [
    {
     "data": {
      "text/plain": [
       "['QSS20', 'QSS17']"
      ]
     },
     "execution_count": 33,
     "metadata": {},
     "output_type": "execute_result"
    },
    {
     "data": {
      "text/plain": [
       "[]"
      ]
     },
     "execution_count": 33,
     "metadata": {},
     "output_type": "execute_result"
    },
    {
     "data": {
      "text/plain": [
       "['BIO2']"
      ]
     },
     "execution_count": 33,
     "metadata": {},
     "output_type": "execute_result"
    }
   ],
   "source": [
    "### two pools of courses\n",
    "socsci = [\"QSS20\", \"QSS17\", \"GOV10\"]\n",
    "natsci = [\"BIO2\", \"PHYS3\"]\n",
    "\n",
    "\n",
    "## generalize some of the steps\n",
    "## above into a two-arg function\n",
    "## that takes the course prefix\n",
    "## and a list of all courses\n",
    "def filter_courses(prefix,all_courses):\n",
    "    rel_courses = [c for c in all_courses if prefix in c]\n",
    "    return(rel_courses)\n",
    "\n",
    "### a few applications \n",
    "filter_courses(prefix = \"QSS\", all_courses = socsci)\n",
    "filter_courses(prefix = \"QSS\", all_courses = natsci)\n",
    "filter_courses(prefix = \"BIO\", all_courses = natsci)"
   ]
  },
  {
   "cell_type": "code",
   "execution_count": 34,
   "metadata": {},
   "outputs": [
    {
     "data": {
      "text/plain": [
       "['BIO2']"
      ]
     },
     "execution_count": 34,
     "metadata": {},
     "output_type": "execute_result"
    }
   ],
   "source": [
    "## what's the lambda function version of this\n",
    "filter_courses_v2 = lambda prefix, all_courses: [c for c in all_courses if prefix in c]\n",
    "filter_courses_v2(prefix = \"BIO\", all_courses = natsci)\n"
   ]
  },
  {
   "cell_type": "markdown",
   "metadata": {},
   "source": [
    "## 2.2 using alongside agg"
   ]
  },
  {
   "cell_type": "code",
   "execution_count": 35,
   "metadata": {},
   "outputs": [
    {
     "data": {
      "text/plain": [
       "WARD\n",
       "1                  3100 - 3299 BLOCK OF 14TH STREET NW\n",
       "2    [1100 - 1199 BLOCK OF NEW YORK AVENUE NW, 1300...\n",
       "3             5300 - 5399 BLOCK OF WISCONSIN AVENUE NW\n",
       "4                100  - 199 BLOCK OF CARROLL STREET NW\n",
       "5            900 - 999 BLOCK OF RHODE ISLAND AVENUE NE\n",
       "6                       600 - 699 BLOCK OF H STREET NE\n",
       "7                934 - 1099 BLOCK OF EASTERN AVENUE NE\n",
       "8               2300 - 2399 BLOCK OF GOOD HOPE ROAD SE\n",
       "Name: BLOCK, dtype: object"
      ]
     },
     "execution_count": 35,
     "metadata": {},
     "output_type": "execute_result"
    },
    {
     "data": {
      "text/html": [
       "<div>\n",
       "<style scoped>\n",
       "    .dataframe tbody tr th:only-of-type {\n",
       "        vertical-align: middle;\n",
       "    }\n",
       "\n",
       "    .dataframe tbody tr th {\n",
       "        vertical-align: top;\n",
       "    }\n",
       "\n",
       "    .dataframe thead th {\n",
       "        text-align: right;\n",
       "    }\n",
       "</style>\n",
       "<table border=\"1\" class=\"dataframe\">\n",
       "  <thead>\n",
       "    <tr style=\"text-align: right;\">\n",
       "      <th></th>\n",
       "      <th>BLOCK</th>\n",
       "    </tr>\n",
       "    <tr>\n",
       "      <th>WARD</th>\n",
       "      <th></th>\n",
       "    </tr>\n",
       "  </thead>\n",
       "  <tbody>\n",
       "    <tr>\n",
       "      <th>1</th>\n",
       "      <td>3100 - 3299 BLOCK OF 14TH STREET NW</td>\n",
       "    </tr>\n",
       "    <tr>\n",
       "      <th>2</th>\n",
       "      <td>[1100 - 1199 BLOCK OF NEW YORK AVENUE NW, 1300...</td>\n",
       "    </tr>\n",
       "    <tr>\n",
       "      <th>3</th>\n",
       "      <td>5300 - 5399 BLOCK OF WISCONSIN AVENUE NW</td>\n",
       "    </tr>\n",
       "    <tr>\n",
       "      <th>4</th>\n",
       "      <td>100  - 199 BLOCK OF CARROLL STREET NW</td>\n",
       "    </tr>\n",
       "    <tr>\n",
       "      <th>5</th>\n",
       "      <td>900 - 999 BLOCK OF RHODE ISLAND AVENUE NE</td>\n",
       "    </tr>\n",
       "    <tr>\n",
       "      <th>6</th>\n",
       "      <td>600 - 699 BLOCK OF H STREET NE</td>\n",
       "    </tr>\n",
       "    <tr>\n",
       "      <th>7</th>\n",
       "      <td>934 - 1099 BLOCK OF EASTERN AVENUE NE</td>\n",
       "    </tr>\n",
       "    <tr>\n",
       "      <th>8</th>\n",
       "      <td>2300 - 2399 BLOCK OF GOOD HOPE ROAD SE</td>\n",
       "    </tr>\n",
       "  </tbody>\n",
       "</table>\n",
       "</div>"
      ],
      "text/plain": [
       "                                                  BLOCK\n",
       "WARD                                                   \n",
       "1                   3100 - 3299 BLOCK OF 14TH STREET NW\n",
       "2     [1100 - 1199 BLOCK OF NEW YORK AVENUE NW, 1300...\n",
       "3              5300 - 5399 BLOCK OF WISCONSIN AVENUE NW\n",
       "4                 100  - 199 BLOCK OF CARROLL STREET NW\n",
       "5             900 - 999 BLOCK OF RHODE ISLAND AVENUE NE\n",
       "6                        600 - 699 BLOCK OF H STREET NE\n",
       "7                 934 - 1099 BLOCK OF EASTERN AVENUE NE\n",
       "8                2300 - 2399 BLOCK OF GOOD HOPE ROAD SE"
      ]
     },
     "execution_count": 35,
     "metadata": {},
     "output_type": "execute_result"
    }
   ],
   "source": [
    "## use lambda to find modal block in a ward- multiple ways\n",
    "\n",
    "### way 1: subsetting agg syntex\n",
    "df.groupby(\"WARD\")[\"BLOCK\"].agg(lambda x: x.mode())\n",
    "\n",
    "### way 2: dictionary agg syntax\n",
    "df.groupby(\"WARD\").agg({\n",
    "    \"BLOCK\": lambda x: x.mode()\n",
    "})\n"
   ]
  },
  {
   "cell_type": "markdown",
   "metadata": {},
   "source": [
    "#### Your turn: Group by WARD and get the mean and standard deviation (std) of X and Y"
   ]
  },
  {
   "cell_type": "code",
   "execution_count": 38,
   "metadata": {},
   "outputs": [
    {
     "data": {
      "text/html": [
       "<div>\n",
       "<style scoped>\n",
       "    .dataframe tbody tr th:only-of-type {\n",
       "        vertical-align: middle;\n",
       "    }\n",
       "\n",
       "    .dataframe tbody tr th {\n",
       "        vertical-align: top;\n",
       "    }\n",
       "\n",
       "    .dataframe thead tr th {\n",
       "        text-align: left;\n",
       "    }\n",
       "\n",
       "    .dataframe thead tr:last-of-type th {\n",
       "        text-align: right;\n",
       "    }\n",
       "</style>\n",
       "<table border=\"1\" class=\"dataframe\">\n",
       "  <thead>\n",
       "    <tr>\n",
       "      <th></th>\n",
       "      <th colspan=\"2\" halign=\"left\">X</th>\n",
       "      <th colspan=\"2\" halign=\"left\">Y</th>\n",
       "    </tr>\n",
       "    <tr>\n",
       "      <th></th>\n",
       "      <th>mean</th>\n",
       "      <th>std</th>\n",
       "      <th>mean</th>\n",
       "      <th>std</th>\n",
       "    </tr>\n",
       "    <tr>\n",
       "      <th>WARD</th>\n",
       "      <th></th>\n",
       "      <th></th>\n",
       "      <th></th>\n",
       "      <th></th>\n",
       "    </tr>\n",
       "  </thead>\n",
       "  <tbody>\n",
       "    <tr>\n",
       "      <th>1</th>\n",
       "      <td>-77.031256</td>\n",
       "      <td>0.007200</td>\n",
       "      <td>38.924716</td>\n",
       "      <td>0.006417</td>\n",
       "    </tr>\n",
       "    <tr>\n",
       "      <th>2</th>\n",
       "      <td>-77.038959</td>\n",
       "      <td>0.014106</td>\n",
       "      <td>38.905941</td>\n",
       "      <td>0.005360</td>\n",
       "    </tr>\n",
       "    <tr>\n",
       "      <th>3</th>\n",
       "      <td>-77.075320</td>\n",
       "      <td>0.013408</td>\n",
       "      <td>38.941557</td>\n",
       "      <td>0.013887</td>\n",
       "    </tr>\n",
       "    <tr>\n",
       "      <th>4</th>\n",
       "      <td>-77.024905</td>\n",
       "      <td>0.011813</td>\n",
       "      <td>38.957674</td>\n",
       "      <td>0.013923</td>\n",
       "    </tr>\n",
       "    <tr>\n",
       "      <th>5</th>\n",
       "      <td>-76.989451</td>\n",
       "      <td>0.014957</td>\n",
       "      <td>38.920249</td>\n",
       "      <td>0.012766</td>\n",
       "    </tr>\n",
       "    <tr>\n",
       "      <th>6</th>\n",
       "      <td>-77.001175</td>\n",
       "      <td>0.011302</td>\n",
       "      <td>38.893112</td>\n",
       "      <td>0.010021</td>\n",
       "    </tr>\n",
       "    <tr>\n",
       "      <th>7</th>\n",
       "      <td>-76.947402</td>\n",
       "      <td>0.018753</td>\n",
       "      <td>38.888669</td>\n",
       "      <td>0.012504</td>\n",
       "    </tr>\n",
       "    <tr>\n",
       "      <th>8</th>\n",
       "      <td>-76.988986</td>\n",
       "      <td>0.012791</td>\n",
       "      <td>38.850526</td>\n",
       "      <td>0.015775</td>\n",
       "    </tr>\n",
       "  </tbody>\n",
       "</table>\n",
       "</div>"
      ],
      "text/plain": [
       "              X                    Y          \n",
       "           mean       std       mean       std\n",
       "WARD                                          \n",
       "1    -77.031256  0.007200  38.924716  0.006417\n",
       "2    -77.038959  0.014106  38.905941  0.005360\n",
       "3    -77.075320  0.013408  38.941557  0.013887\n",
       "4    -77.024905  0.011813  38.957674  0.013923\n",
       "5    -76.989451  0.014957  38.920249  0.012766\n",
       "6    -77.001175  0.011302  38.893112  0.010021\n",
       "7    -76.947402  0.018753  38.888669  0.012504\n",
       "8    -76.988986  0.012791  38.850526  0.015775"
      ]
     },
     "execution_count": 38,
     "metadata": {},
     "output_type": "execute_result"
    }
   ],
   "source": [
    "df.groupby(\"WARD\").agg({\n",
    "    \"X\": [\"mean\", \"std\"],\n",
    "    \"Y\": [\"mean\", \"std\"],\n",
    "})"
   ]
  },
  {
   "cell_type": "code",
   "execution_count": 48,
   "metadata": {},
   "outputs": [
    {
     "data": {
      "text/html": [
       "<div>\n",
       "<style scoped>\n",
       "    .dataframe tbody tr th:only-of-type {\n",
       "        vertical-align: middle;\n",
       "    }\n",
       "\n",
       "    .dataframe tbody tr th {\n",
       "        vertical-align: top;\n",
       "    }\n",
       "\n",
       "    .dataframe thead tr th {\n",
       "        text-align: left;\n",
       "    }\n",
       "\n",
       "    .dataframe thead tr:last-of-type th {\n",
       "        text-align: right;\n",
       "    }\n",
       "</style>\n",
       "<table border=\"1\" class=\"dataframe\">\n",
       "  <thead>\n",
       "    <tr>\n",
       "      <th></th>\n",
       "      <th colspan=\"2\" halign=\"left\">X</th>\n",
       "      <th colspan=\"2\" halign=\"left\">Y</th>\n",
       "    </tr>\n",
       "    <tr>\n",
       "      <th></th>\n",
       "      <th>mean</th>\n",
       "      <th>std</th>\n",
       "      <th>mean</th>\n",
       "      <th>std</th>\n",
       "    </tr>\n",
       "    <tr>\n",
       "      <th>WARD</th>\n",
       "      <th></th>\n",
       "      <th></th>\n",
       "      <th></th>\n",
       "      <th></th>\n",
       "    </tr>\n",
       "  </thead>\n",
       "  <tbody>\n",
       "    <tr>\n",
       "      <th>1</th>\n",
       "      <td>-77.031256</td>\n",
       "      <td>0.007200</td>\n",
       "      <td>38.924716</td>\n",
       "      <td>0.006417</td>\n",
       "    </tr>\n",
       "    <tr>\n",
       "      <th>2</th>\n",
       "      <td>-77.038959</td>\n",
       "      <td>0.014106</td>\n",
       "      <td>38.905941</td>\n",
       "      <td>0.005360</td>\n",
       "    </tr>\n",
       "    <tr>\n",
       "      <th>3</th>\n",
       "      <td>-77.075320</td>\n",
       "      <td>0.013408</td>\n",
       "      <td>38.941557</td>\n",
       "      <td>0.013887</td>\n",
       "    </tr>\n",
       "    <tr>\n",
       "      <th>4</th>\n",
       "      <td>-77.024905</td>\n",
       "      <td>0.011813</td>\n",
       "      <td>38.957674</td>\n",
       "      <td>0.013923</td>\n",
       "    </tr>\n",
       "    <tr>\n",
       "      <th>5</th>\n",
       "      <td>-76.989451</td>\n",
       "      <td>0.014957</td>\n",
       "      <td>38.920249</td>\n",
       "      <td>0.012766</td>\n",
       "    </tr>\n",
       "    <tr>\n",
       "      <th>6</th>\n",
       "      <td>-77.001175</td>\n",
       "      <td>0.011302</td>\n",
       "      <td>38.893112</td>\n",
       "      <td>0.010021</td>\n",
       "    </tr>\n",
       "    <tr>\n",
       "      <th>7</th>\n",
       "      <td>-76.947402</td>\n",
       "      <td>0.018753</td>\n",
       "      <td>38.888669</td>\n",
       "      <td>0.012504</td>\n",
       "    </tr>\n",
       "    <tr>\n",
       "      <th>8</th>\n",
       "      <td>-76.988986</td>\n",
       "      <td>0.012791</td>\n",
       "      <td>38.850526</td>\n",
       "      <td>0.015775</td>\n",
       "    </tr>\n",
       "  </tbody>\n",
       "</table>\n",
       "</div>"
      ],
      "text/plain": [
       "              X                    Y          \n",
       "           mean       std       mean       std\n",
       "WARD                                          \n",
       "1    -77.031256  0.007200  38.924716  0.006417\n",
       "2    -77.038959  0.014106  38.905941  0.005360\n",
       "3    -77.075320  0.013408  38.941557  0.013887\n",
       "4    -77.024905  0.011813  38.957674  0.013923\n",
       "5    -76.989451  0.014957  38.920249  0.012766\n",
       "6    -77.001175  0.011302  38.893112  0.010021\n",
       "7    -76.947402  0.018753  38.888669  0.012504\n",
       "8    -76.988986  0.012791  38.850526  0.015775"
      ]
     },
     "execution_count": 48,
     "metadata": {},
     "output_type": "execute_result"
    }
   ],
   "source": [
    "df.groupby(\"WARD\")[[\"X\",\"Y\"]].agg([\"mean\", \"std\"])"
   ]
  },
  {
   "cell_type": "code",
   "execution_count": null,
   "metadata": {},
   "outputs": [],
   "source": []
  }
 ],
 "metadata": {
  "kernelspec": {
   "display_name": "Python 3 (ipykernel)",
   "language": "python",
   "name": "python3"
  },
  "language_info": {
   "codemirror_mode": {
    "name": "ipython",
    "version": 3
   },
   "file_extension": ".py",
   "mimetype": "text/x-python",
   "name": "python",
   "nbconvert_exporter": "python",
   "pygments_lexer": "ipython3",
   "version": "3.12.5"
  }
 },
 "nbformat": 4,
 "nbformat_minor": 4
}
